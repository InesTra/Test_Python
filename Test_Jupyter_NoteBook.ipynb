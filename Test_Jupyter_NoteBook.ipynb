{
 "cells": [
  {
   "cell_type": "code",
   "execution_count": 16,
   "metadata": {},
   "outputs": [],
   "source": [
    "import numpy as np\n",
    "import urllib.request, json \n",
    "import pandas as pd\n",
    "import matplotlib.pyplot as plt\n",
    "\n",
    "#1.  sma algorithme\n",
    "def sma_algo(data,window):\n",
    "    weights=np.repeat(1.0,window)\n",
    "    sma=np.convolve(data,weights/window,'valid')\n",
    "    return(sma)"
   ]
  },
  {
   "cell_type": "code",
   "execution_count": 17,
   "metadata": {},
   "outputs": [],
   "source": [
    "#2 Import data\n",
    "with urllib.request.urlopen(\"https://www.alphavantage.co/query?function=TIME_SERIES_DAILY&symbol=MSFT&apikey=demo)\") as url:\n",
    "    data = json.loads(url.read().decode())\n",
    "    "
   ]
  },
  {
   "cell_type": "code",
   "execution_count": 18,
   "metadata": {},
   "outputs": [],
   "source": [
    "#3 Calculate Average Price\n",
    "\n",
    "def average_price(date):\n",
    "\n",
    "    high=data['Time Series (Daily)'][date]['2. high']\n",
    "    low=data['Time Series (Daily)'][date]['3. low']\n",
    "    average_price=(float(high)+float(low))/2\n",
    "    print(average_price)"
   ]
  },
  {
   "cell_type": "code",
   "execution_count": 19,
   "metadata": {},
   "outputs": [],
   "source": [
    "#4 Calculate SMA values of 5 day  based on daily average prices\n",
    " \n",
    "data=data['Time Series (Daily)']\n",
    "df = pd.DataFrame(data).T\n",
    "\n",
    "#rename columns\n",
    "df = df.rename(columns={'2. high':'Hight','3. low':'Low'})\n",
    "\n",
    "#change data type\n",
    "df['Hight']=df['Hight'].astype(float)\n",
    "df['Low']=df['Low'].astype(float)\n",
    "df['Averge Price']=(df['Hight'] + df['Low'])/2\n",
    "\n",
    "#Calculate SMA values\n",
    "sma=sma_algo(df['Averge Price'],5)\n",
    "sma = pd.DataFrame(sma)\n",
    "\n"
   ]
  },
  {
   "cell_type": "code",
   "execution_count": 20,
   "metadata": {},
   "outputs": [],
   "source": [
    "\n",
    "#5 Calculate the profit\n",
    "\n",
    "#Extract date\n",
    "date=pd.DataFrame(df.index)\n",
    "date=date.drop(axis=1,index=[0,1,2,3])\n",
    "date.index = np.arange(len(date.index))\n"
   ]
  },
  {
   "cell_type": "code",
   "execution_count": 21,
   "metadata": {},
   "outputs": [],
   "source": [
    "#create new dataframe with sma values and the date\n",
    "df1= pd.concat([date,sma], axis=1,ignore_index=True).transpose()\n",
    "df1= df1.T.set_index(0)[1].rename('sma').astype(float)\n",
    "\n"
   ]
  },
  {
   "cell_type": "code",
   "execution_count": 24,
   "metadata": {},
   "outputs": [
    {
     "data": {
      "text/html": [
       "<div>\n",
       "<style scoped>\n",
       "    .dataframe tbody tr th:only-of-type {\n",
       "        vertical-align: middle;\n",
       "    }\n",
       "\n",
       "    .dataframe tbody tr th {\n",
       "        vertical-align: top;\n",
       "    }\n",
       "\n",
       "    .dataframe thead th {\n",
       "        text-align: right;\n",
       "    }\n",
       "</style>\n",
       "<table border=\"1\" class=\"dataframe\">\n",
       "  <thead>\n",
       "    <tr style=\"text-align: right;\">\n",
       "      <th></th>\n",
       "      <th>1. open</th>\n",
       "      <th>Hight</th>\n",
       "      <th>Low</th>\n",
       "      <th>4. close</th>\n",
       "      <th>5. volume</th>\n",
       "      <th>Averge Price</th>\n",
       "      <th>SMA</th>\n",
       "    </tr>\n",
       "  </thead>\n",
       "  <tbody>\n",
       "    <tr>\n",
       "      <th>2018-12-03</th>\n",
       "      <td>113.0000</td>\n",
       "      <td>113.4200</td>\n",
       "      <td>110.73</td>\n",
       "      <td>112.0900</td>\n",
       "      <td>34275048</td>\n",
       "      <td>112.07500</td>\n",
       "      <td>NaN</td>\n",
       "    </tr>\n",
       "    <tr>\n",
       "      <th>2018-11-30</th>\n",
       "      <td>110.7000</td>\n",
       "      <td>110.9700</td>\n",
       "      <td>109.36</td>\n",
       "      <td>110.8900</td>\n",
       "      <td>33665624</td>\n",
       "      <td>110.16500</td>\n",
       "      <td>NaN</td>\n",
       "    </tr>\n",
       "    <tr>\n",
       "      <th>2018-11-29</th>\n",
       "      <td>110.3300</td>\n",
       "      <td>111.1150</td>\n",
       "      <td>109.03</td>\n",
       "      <td>110.1900</td>\n",
       "      <td>28123195</td>\n",
       "      <td>110.07250</td>\n",
       "      <td>NaN</td>\n",
       "    </tr>\n",
       "    <tr>\n",
       "      <th>2018-11-28</th>\n",
       "      <td>107.8900</td>\n",
       "      <td>111.3300</td>\n",
       "      <td>107.86</td>\n",
       "      <td>111.1200</td>\n",
       "      <td>46788461</td>\n",
       "      <td>109.59500</td>\n",
       "      <td>NaN</td>\n",
       "    </tr>\n",
       "    <tr>\n",
       "      <th>2018-11-27</th>\n",
       "      <td>106.2700</td>\n",
       "      <td>107.3300</td>\n",
       "      <td>105.36</td>\n",
       "      <td>107.1400</td>\n",
       "      <td>29124486</td>\n",
       "      <td>106.34500</td>\n",
       "      <td>109.65050</td>\n",
       "    </tr>\n",
       "    <tr>\n",
       "      <th>2018-11-26</th>\n",
       "      <td>104.7900</td>\n",
       "      <td>106.6300</td>\n",
       "      <td>104.58</td>\n",
       "      <td>106.4700</td>\n",
       "      <td>32336165</td>\n",
       "      <td>105.60500</td>\n",
       "      <td>108.35650</td>\n",
       "    </tr>\n",
       "    <tr>\n",
       "      <th>2018-11-23</th>\n",
       "      <td>102.1700</td>\n",
       "      <td>103.8099</td>\n",
       "      <td>102.00</td>\n",
       "      <td>103.0700</td>\n",
       "      <td>13823099</td>\n",
       "      <td>102.90495</td>\n",
       "      <td>106.90449</td>\n",
       "    </tr>\n",
       "  </tbody>\n",
       "</table>\n",
       "</div>"
      ],
      "text/plain": [
       "             1. open     Hight     Low  4. close 5. volume  Averge Price  \\\n",
       "2018-12-03  113.0000  113.4200  110.73  112.0900  34275048     112.07500   \n",
       "2018-11-30  110.7000  110.9700  109.36  110.8900  33665624     110.16500   \n",
       "2018-11-29  110.3300  111.1150  109.03  110.1900  28123195     110.07250   \n",
       "2018-11-28  107.8900  111.3300  107.86  111.1200  46788461     109.59500   \n",
       "2018-11-27  106.2700  107.3300  105.36  107.1400  29124486     106.34500   \n",
       "2018-11-26  104.7900  106.6300  104.58  106.4700  32336165     105.60500   \n",
       "2018-11-23  102.1700  103.8099  102.00  103.0700  13823099     102.90495   \n",
       "\n",
       "                  SMA  \n",
       "2018-12-03        NaN  \n",
       "2018-11-30        NaN  \n",
       "2018-11-29        NaN  \n",
       "2018-11-28        NaN  \n",
       "2018-11-27  109.65050  \n",
       "2018-11-26  108.35650  \n",
       "2018-11-23  106.90449  "
      ]
     },
     "execution_count": 24,
     "metadata": {},
     "output_type": "execute_result"
    }
   ],
   "source": [
    "#add the new dataframe to the previous one\n",
    "df['SMA']=df1\n",
    "df.head(7)\n"
   ]
  },
  {
   "cell_type": "code",
   "execution_count": 25,
   "metadata": {},
   "outputs": [
    {
     "data": {
      "image/png": "[encoded data removed]",
      "text/plain": [
       "<Figure size 432x288 with 1 Axes>"
      ]
     },
     "metadata": {},
     "output_type": "display_data"
    }
   ],
   "source": [
    "#visualize data\n",
    "df[['Averge Price','SMA']].plot(grid=True)\n",
    "plt.title('SMA and Averge Price')\n",
    "plt.show()"
   ]
  },
  {
   "cell_type": "code",
   "execution_count": 26,
   "metadata": {},
   "outputs": [
    {
     "name": "stdout",
     "output_type": "stream",
     "text": [
      "User's profit : 631.8440100000007\n"
     ]
    }
   ],
   "source": [
    "#Calculate the profit\n",
    "buy_actions= df.loc[df['SMA'] < df['Averge Price'],'Averge Price'].sum()\n",
    "sell_action= df.loc[df['SMA'] > df['Averge Price'],'SMA'].sum()\n",
    "profit=sell_action-buy_actions\n",
    "print(\"User's profit :\",profit)"
   ]
  },
  {
   "cell_type": "code",
   "execution_count": null,
   "metadata": {},
   "outputs": [],
   "source": []
  }
 ],
 "metadata": {
  "kernelspec": {
   "display_name": "Python 3",
   "language": "python",
   "name": "python3"
  },
  "language_info": {
   "codemirror_mode": {
    "name": "ipython",
    "version": 3
   },
   "file_extension": ".py",
   "mimetype": "text/x-python",
   "name": "python",
   "nbconvert_exporter": "python",
   "pygments_lexer": "ipython3",
   "version": "3.6.5"
  }
 },
 "nbformat": 4,
 "nbformat_minor": 2
}
